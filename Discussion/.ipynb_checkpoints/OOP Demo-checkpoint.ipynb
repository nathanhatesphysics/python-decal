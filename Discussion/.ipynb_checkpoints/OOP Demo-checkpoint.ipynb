{
 "cells": [
  {
   "cell_type": "code",
   "execution_count": 19,
   "id": "720411c0-6b9c-4931-91fe-15e48839a9b6",
   "metadata": {},
   "outputs": [],
   "source": [
    "class Animal:\n",
    "    def __init__(self, name, age, height):\n",
    "        self.name = name\n",
    "        self.age = age\n",
    "        self.height = height\n",
    "        self.babies = 0\n",
    "    def run(self):\n",
    "        print(self.name, 'is running!')\n",
    "    def baby_making(self):\n",
    "        self.babies += 1\n",
    "        print(self.babies)\n",
    "    def sleep(self, hours):\n",
    "        self.height += hours\n",
    "        print(self.name, 'is sleeping!')"
   ]
  },
  {
   "cell_type": "code",
   "execution_count": 21,
   "id": "1ba99457-8309-4d69-8f3a-a5b14791c93d",
   "metadata": {},
   "outputs": [],
   "source": [
    "emu = Animal('Limu', 23, 67)"
   ]
  },
  {
   "cell_type": "code",
   "execution_count": 15,
   "id": "2fec2383-879b-4b8b-aee6-0e247a6c470b",
   "metadata": {},
   "outputs": [
    {
     "name": "stdout",
     "output_type": "stream",
     "text": [
      "Limu is running!\n"
     ]
    }
   ],
   "source": [
    "emu.run()"
   ]
  },
  {
   "cell_type": "code",
   "execution_count": 17,
   "id": "773cf969-a613-41bc-885f-2fe077726245",
   "metadata": {},
   "outputs": [
    {
     "name": "stdout",
     "output_type": "stream",
     "text": [
      "1\n"
     ]
    }
   ],
   "source": [
    "emu.baby_making()"
   ]
  },
  {
   "cell_type": "code",
   "execution_count": 23,
   "id": "ffe0ba46-4ed7-40da-8085-cd8cdb6ba243",
   "metadata": {},
   "outputs": [
    {
     "name": "stdout",
     "output_type": "stream",
     "text": [
      "Limu is sleeping!\n"
     ]
    }
   ],
   "source": [
    "emu.sleep(10)"
   ]
  },
  {
   "cell_type": "code",
   "execution_count": 27,
   "id": "de0eb90f-090a-4395-bcae-eaf10e7f0980",
   "metadata": {},
   "outputs": [
    {
     "data": {
      "text/plain": [
       "77"
      ]
     },
     "execution_count": 27,
     "metadata": {},
     "output_type": "execute_result"
    }
   ],
   "source": [
    "emu.height"
   ]
  },
  {
   "cell_type": "code",
   "execution_count": 50,
   "id": "7a4a6179-9db0-474e-9442-a34a7b0e2720",
   "metadata": {},
   "outputs": [],
   "source": [
    "class Dog(Animal):\n",
    "    def __init__(self, name, age, height, breed):\n",
    "        super().__init__(name, age, height)\n",
    "        self.breed = breed\n",
    "    def bark(self):\n",
    "        print(self.name, 'is barking!')"
   ]
  },
  {
   "cell_type": "code",
   "execution_count": 52,
   "id": "9965d65f-f7d8-4c3e-bbe6-693955f79fc8",
   "metadata": {},
   "outputs": [],
   "source": [
    "dog1 = Dog('steve', 0, 80, 'german shephard')"
   ]
  },
  {
   "cell_type": "code",
   "execution_count": 54,
   "id": "8974fd8f-2d33-4284-b789-b46d0c310642",
   "metadata": {},
   "outputs": [
    {
     "data": {
      "text/plain": [
       "0"
      ]
     },
     "execution_count": 54,
     "metadata": {},
     "output_type": "execute_result"
    }
   ],
   "source": [
    "dog1.babies"
   ]
  },
  {
   "cell_type": "code",
   "execution_count": 56,
   "id": "bda0b01c-974b-4d87-89dd-a518c295154c",
   "metadata": {},
   "outputs": [
    {
     "name": "stdout",
     "output_type": "stream",
     "text": [
      "steve is running!\n"
     ]
    }
   ],
   "source": [
    "dog1.run()"
   ]
  },
  {
   "cell_type": "code",
   "execution_count": 58,
   "id": "fb2c397e-e9a5-4fb6-b8c3-5440cd2289f2",
   "metadata": {},
   "outputs": [
    {
     "name": "stdout",
     "output_type": "stream",
     "text": [
      "steve is barking!\n"
     ]
    }
   ],
   "source": [
    "dog1.bark()"
   ]
  },
  {
   "cell_type": "code",
   "execution_count": null,
   "id": "0dae24c2-235a-4dda-a330-68ce30db4037",
   "metadata": {},
   "outputs": [],
   "source": []
  }
 ],
 "metadata": {
  "kernelspec": {
   "display_name": "Python 3 (ipykernel)",
   "language": "python",
   "name": "python3"
  },
  "language_info": {
   "codemirror_mode": {
    "name": "ipython",
    "version": 3
   },
   "file_extension": ".py",
   "mimetype": "text/x-python",
   "name": "python",
   "nbconvert_exporter": "python",
   "pygments_lexer": "ipython3",
   "version": "3.12.4"
  }
 },
 "nbformat": 4,
 "nbformat_minor": 5
}
