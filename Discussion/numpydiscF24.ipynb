{
 "cells": [
  {
   "cell_type": "code",
   "execution_count": null,
   "id": "81d25398",
   "metadata": {},
   "outputs": [],
   "source": [
    "import numpy as np"
   ]
  },
  {
   "cell_type": "code",
   "execution_count": 15,
   "id": "8e42e005",
   "metadata": {},
   "outputs": [
    {
     "name": "stdout",
     "output_type": "stream",
     "text": [
      "12.363215446472168\n",
      "0.21956968307495117\n"
     ]
    }
   ],
   "source": [
    "import numpy as np\n",
    "import time\n",
    "\n",
    "def function(num):\n",
    "    return num**2\n",
    "\n",
    "def loop_speedtest(n):\n",
    "    start = time.time()\n",
    "    result = list(range(n))\n",
    "    for i in result:\n",
    "        result[i] = function(result[i])\n",
    "    end = time.time()\n",
    "    return end - start\n",
    "\n",
    "def numpy_speedtest(n):\n",
    "    start = time.time()\n",
    "    result = np.arange(n)\n",
    "    result = function(result)\n",
    "    end = time.time()\n",
    "    return end - start\n",
    "\n",
    "reps = 100000000\n",
    "print(loop_speedtest(reps))\n",
    "print(numpy_speedtest(reps))"
   ]
  },
  {
   "cell_type": "code",
   "execution_count": null,
   "id": "8454d0ff",
   "metadata": {},
   "outputs": [],
   "source": [
    "# PROBLEM 1: PUT IT IN REVERSE TERRY!\n",
    "\n",
    "\"\"\"\n",
    "    Make a function that takes in a 1D array. Reshape the array \n",
    "    so that it becomes a square matrix. Finally reverse the\n",
    "    multi-dimensional array and return it.\n",
    "\"\"\"\n",
    "\n",
    "def reverseArray(arr):\n",
    "    \"\"\"\n",
    "    >>> np.random.seed(12345)\n",
    "    >>> myArr = np.random.randint(0, 10, size=(9))\n",
    "    >>> myArr\n",
    "    array([2, 5, 1, 4, 9, 5, 2, 1, 6])\n",
    "    >>> reverseArray(myArr)\n",
    "    array([[6, 1, 2],\n",
    "           [5, 9, 4],\n",
    "           [1, 5, 2]])\n",
    "\n",
    "    >>> badLength = np.random.random(6)\n",
    "    >>> reverseArray(badLength)\n",
    "    Array length or dimension is not supported. Please try again.\n",
    "\n",
    "    >>> wrongDim = np.random.random(4)\n",
    "    >>> reverseArray(np.reshape(wrongDim, (2, 2)))\n",
    "    Array length or dimension is not supported. Please try again.'\n",
    "    \"\"\"\n",
    "    ...\n",
    "    return ..."
   ]
  },
  {
   "cell_type": "code",
   "execution_count": 59,
   "id": "aa04ff80-88b3-4061-94a9-fe1c19faeace",
   "metadata": {},
   "outputs": [
    {
     "name": "stdout",
     "output_type": "stream",
     "text": [
      "[1 2 3 4 5 6 7 8 9]\n"
     ]
    }
   ],
   "source": [
    "import numpy as np\n",
    "\n",
    "my_array = np.array([1, 2, 3, 4, 5, 6, 7, 8, 9])\n",
    "\n",
    "def perfectSquare(num):\n",
    "    if int(np.sqrt(num)) == np.sqrt(num):\n",
    "        return(True)\n",
    "    else:\n",
    "        return(False)\n",
    "def reverseArray(input):\n",
    "    if perfectSquare(len(input)) == True:\n",
    "        np.reshape(input, (int(np.sqrt(len(input))), int(np.sqrt(len(input)))))\n",
    "        return(input)\n",
    "    else:\n",
    "        return(\"array not supported\")\n",
    "\n",
    "print(reverseArray(my_array))"
   ]
  },
  {
   "cell_type": "code",
   "execution_count": null,
   "id": "457353ab",
   "metadata": {},
   "outputs": [],
   "source": [
    "# PROBLEM 2: IT'S NICE TO BE DIFFERENT\n",
    "\n",
    "\"\"\"\n",
    "    Given an array, return its sorted version with only the unique \n",
    "    elements, along with the count for each value.\n",
    "\n",
    "    P.S. There is an easy way and a hard way xp\n",
    "\"\"\"\n",
    "\n",
    "def uniqueCounts(myArr):\n",
    "    \"\"\"\n",
    "    >>> arr = np.array([10, 2, 5, 10, 8, 2, 8, 9])\n",
    "    >>> uniqueCounts(arr)\n",
    "    (array([ 2, 5,  8,  9, 10]), array([2, 1, 2, 1, 2]))\n",
    "    \"\"\"\n",
    "    ...\n",
    "    return ..."
   ]
  },
  {
   "cell_type": "code",
   "execution_count": null,
   "id": "b261dbb1",
   "metadata": {},
   "outputs": [],
   "source": [
    "def conditionedArr(myArr):\n",
    "    \"\"\"\n",
    "    >>> np.random.seed(12345)\n",
    "    >>> newArr = np.random.randint(0, 50, size=(4, 3))\n",
    "    >>> newArr\n",
    "    array([[34, 37, 29],\n",
    "           [ 1, 36, 41],\n",
    "           [37, 34, 29],\n",
    "           [ 1, 49, 14]])\n",
    "    >>> conditionedArr(newArr)\n",
    "    array([[34, 39, 29],\n",
    "           [18, 39, 41],\n",
    "           [37, 39, 29],\n",
    "           [18, 49, 28]])\n",
    "    \"\"\"\n",
    "    ...\n",
    "    return ...\n"
   ]
  },
  {
   "cell_type": "code",
   "execution_count": null,
   "id": "a21408ff",
   "metadata": {},
   "outputs": [],
   "source": []
  }
 ],
 "metadata": {
  "kernelspec": {
   "display_name": "Python 3 (ipykernel)",
   "language": "python",
   "name": "python3"
  },
  "language_info": {
   "codemirror_mode": {
    "name": "ipython",
    "version": 3
   },
   "file_extension": ".py",
   "mimetype": "text/x-python",
   "name": "python",
   "nbconvert_exporter": "python",
   "pygments_lexer": "ipython3",
   "version": "3.12.4"
  }
 },
 "nbformat": 4,
 "nbformat_minor": 5
}
