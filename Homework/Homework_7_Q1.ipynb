{
 "cells": [
  {
   "cell_type": "code",
   "execution_count": 3,
   "id": "265cf420-b140-4b11-b215-36aad773527e",
   "metadata": {},
   "outputs": [],
   "source": [
    "import numpy as np\n",
    "import matplotlib.pyplot as plt\n",
    "import pandas as pd"
   ]
  },
  {
   "cell_type": "code",
   "execution_count": 4,
   "id": "afa27db3-c600-499f-978c-ff1a82f52189",
   "metadata": {},
   "outputs": [],
   "source": [
    "PM25 = pd.read_csv('global_air_quality.csv')"
   ]
  },
  {
   "cell_type": "code",
   "execution_count": 6,
   "id": "98427b4e-86ce-42dc-8df1-0e221e2a7b71",
   "metadata": {},
   "outputs": [],
   "source": [
    "PM25['PM25_value'] = PM25['FactValueNumeric']"
   ]
  },
  {
   "cell_type": "code",
   "execution_count": 63,
   "id": "28c07bf0-7d22-4657-b134-cf4e9d1f59bc",
   "metadata": {},
   "outputs": [
    {
     "data": {
      "text/html": [
       "<div>\n",
       "<style scoped>\n",
       "    .dataframe tbody tr th:only-of-type {\n",
       "        vertical-align: middle;\n",
       "    }\n",
       "\n",
       "    .dataframe tbody tr th {\n",
       "        vertical-align: top;\n",
       "    }\n",
       "\n",
       "    .dataframe thead th {\n",
       "        text-align: right;\n",
       "    }\n",
       "</style>\n",
       "<table border=\"1\" class=\"dataframe\">\n",
       "  <thead>\n",
       "    <tr style=\"text-align: right;\">\n",
       "      <th></th>\n",
       "      <th>FactValueNumeric</th>\n",
       "      <th>PM25_value</th>\n",
       "    </tr>\n",
       "  </thead>\n",
       "  <tbody>\n",
       "    <tr>\n",
       "      <th>0</th>\n",
       "      <td>10.01</td>\n",
       "      <td>10.01</td>\n",
       "    </tr>\n",
       "    <tr>\n",
       "      <th>1</th>\n",
       "      <td>10.02</td>\n",
       "      <td>10.02</td>\n",
       "    </tr>\n",
       "    <tr>\n",
       "      <th>2</th>\n",
       "      <td>10.06</td>\n",
       "      <td>10.06</td>\n",
       "    </tr>\n",
       "    <tr>\n",
       "      <th>3</th>\n",
       "      <td>10.08</td>\n",
       "      <td>10.08</td>\n",
       "    </tr>\n",
       "    <tr>\n",
       "      <th>4</th>\n",
       "      <td>10.09</td>\n",
       "      <td>10.09</td>\n",
       "    </tr>\n",
       "  </tbody>\n",
       "</table>\n",
       "</div>"
      ],
      "text/plain": [
       "   FactValueNumeric  PM25_value\n",
       "0             10.01       10.01\n",
       "1             10.02       10.02\n",
       "2             10.06       10.06\n",
       "3             10.08       10.08\n",
       "4             10.09       10.09"
      ]
     },
     "execution_count": 63,
     "metadata": {},
     "output_type": "execute_result"
    }
   ],
   "source": [
    "PM25[['FactValueNumeric','PM25_value']].head()"
   ]
  },
  {
   "cell_type": "code",
   "execution_count": 15,
   "id": "ff323a40-2c57-4cc2-b84e-a0004d254eaf",
   "metadata": {},
   "outputs": [],
   "source": [
    "# Function that calculates the averages for all conts\n",
    "def Average_Value(cont):\n",
    "    sum_cont = 0\n",
    "    n = 0\n",
    "    for i in range(1, len(PM25)):\n",
    "        if PM25.loc[i, \"ParentLocation\"] == cont:\n",
    "            sum_cont += PM25.loc[i, 'PM25_value']\n",
    "            n += 1\n",
    "    return (sum_cont/n)"
   ]
  },
  {
   "cell_type": "code",
   "execution_count": 55,
   "id": "4c12162d-adf3-4c9a-aa87-a0d55a41e5d8",
   "metadata": {},
   "outputs": [],
   "source": [
    "# Getting all continents in list\n",
    "cont_list = []\n",
    "for i in PM25['ParentLocation']:\n",
    "    if i not in cont_list:\n",
    "        cont_list.append(i)"
   ]
  },
  {
   "cell_type": "code",
   "execution_count": 57,
   "id": "ea0f6dfe-ec84-4bd9-aea7-f602df7dc8e7",
   "metadata": {},
   "outputs": [],
   "source": [
    "# Assign all averages in a dictionary so we don't have to calculate every time\n",
    "cont_averages = {}\n",
    "for i in cont_list:\n",
    "    cont_averages[i] = Average_Value(i)"
   ]
  },
  {
   "cell_type": "code",
   "execution_count": 49,
   "id": "8ead9514-fe00-4281-b741-0e6098a8e07a",
   "metadata": {},
   "outputs": [],
   "source": [
    "# Function to map\n",
    "def average_finder(location):\n",
    "    if location in cont_averages:\n",
    "        return cont_averages[location]\n",
    "    else\n",
    "        return None"
   ]
  },
  {
   "cell_type": "code",
   "execution_count": 51,
   "id": "090c8800-212b-47cc-af9e-f51dfe651e28",
   "metadata": {},
   "outputs": [],
   "source": [
    "PM25['Average_PM25'] = PM25['ParentLocation'].map(average_finder)"
   ]
  },
  {
   "cell_type": "code",
   "execution_count": 59,
   "id": "925ac3eb-f9ba-47bf-9100-b991e4eb6d1d",
   "metadata": {},
   "outputs": [
    {
     "data": {
      "text/html": [
       "<div>\n",
       "<style scoped>\n",
       "    .dataframe tbody tr th:only-of-type {\n",
       "        vertical-align: middle;\n",
       "    }\n",
       "\n",
       "    .dataframe tbody tr th {\n",
       "        vertical-align: top;\n",
       "    }\n",
       "\n",
       "    .dataframe thead th {\n",
       "        text-align: right;\n",
       "    }\n",
       "</style>\n",
       "<table border=\"1\" class=\"dataframe\">\n",
       "  <thead>\n",
       "    <tr style=\"text-align: right;\">\n",
       "      <th></th>\n",
       "      <th>Location</th>\n",
       "      <th>ParentLocation</th>\n",
       "      <th>PM25_value</th>\n",
       "      <th>Average_PM25</th>\n",
       "    </tr>\n",
       "  </thead>\n",
       "  <tbody>\n",
       "    <tr>\n",
       "      <th>0</th>\n",
       "      <td>Kenya</td>\n",
       "      <td>Africa</td>\n",
       "      <td>10.01</td>\n",
       "      <td>29.820748</td>\n",
       "    </tr>\n",
       "    <tr>\n",
       "      <th>1</th>\n",
       "      <td>Trinidad and Tobago</td>\n",
       "      <td>Americas</td>\n",
       "      <td>10.02</td>\n",
       "      <td>14.645728</td>\n",
       "    </tr>\n",
       "    <tr>\n",
       "      <th>2</th>\n",
       "      <td>United Kingdom of Great Britain and Northern I...</td>\n",
       "      <td>Europe</td>\n",
       "      <td>10.06</td>\n",
       "      <td>19.244727</td>\n",
       "    </tr>\n",
       "    <tr>\n",
       "      <th>3</th>\n",
       "      <td>Grenada</td>\n",
       "      <td>Americas</td>\n",
       "      <td>10.08</td>\n",
       "      <td>14.645728</td>\n",
       "    </tr>\n",
       "    <tr>\n",
       "      <th>4</th>\n",
       "      <td>Brazil</td>\n",
       "      <td>Americas</td>\n",
       "      <td>10.09</td>\n",
       "      <td>14.645728</td>\n",
       "    </tr>\n",
       "  </tbody>\n",
       "</table>\n",
       "</div>"
      ],
      "text/plain": [
       "                                            Location ParentLocation  \\\n",
       "0                                              Kenya         Africa   \n",
       "1                                Trinidad and Tobago       Americas   \n",
       "2  United Kingdom of Great Britain and Northern I...         Europe   \n",
       "3                                            Grenada       Americas   \n",
       "4                                             Brazil       Americas   \n",
       "\n",
       "   PM25_value  Average_PM25  \n",
       "0       10.01     29.820748  \n",
       "1       10.02     14.645728  \n",
       "2       10.06     19.244727  \n",
       "3       10.08     14.645728  \n",
       "4       10.09     14.645728  "
      ]
     },
     "execution_count": 59,
     "metadata": {},
     "output_type": "execute_result"
    }
   ],
   "source": [
    "PM25[['Location', 'ParentLocation', 'PM25_value', 'Average_PM25']].head()"
   ]
  },
  {
   "cell_type": "code",
   "execution_count": 65,
   "id": "533c9c54-f4a6-4833-b049-30066c4002e0",
   "metadata": {},
   "outputs": [
    {
     "data": {
      "text/plain": [
       "{'Africa': 29.820748182984197,\n",
       " 'Americas': 14.645727810650857,\n",
       " 'Europe': 19.244726923076936,\n",
       " 'Western Pacific': 15.49755932203391,\n",
       " 'South-East Asia': 32.14579629629628,\n",
       " 'Eastern Mediterranean': 38.40368181818181}"
      ]
     },
     "execution_count": 65,
     "metadata": {},
     "output_type": "execute_result"
    }
   ],
   "source": [
    "cont_averages\n",
    "# Highest Value: Eastern Mediterranean"
   ]
  },
  {
   "cell_type": "code",
   "execution_count": 67,
   "id": "bc0eefd6-d9aa-4a7e-8741-8b953eee9a2d",
   "metadata": {},
   "outputs": [
    {
     "data": {
      "text/html": [
       "<div>\n",
       "<style scoped>\n",
       "    .dataframe tbody tr th:only-of-type {\n",
       "        vertical-align: middle;\n",
       "    }\n",
       "\n",
       "    .dataframe tbody tr th {\n",
       "        vertical-align: top;\n",
       "    }\n",
       "\n",
       "    .dataframe thead th {\n",
       "        text-align: right;\n",
       "    }\n",
       "</style>\n",
       "<table border=\"1\" class=\"dataframe\">\n",
       "  <thead>\n",
       "    <tr style=\"text-align: right;\">\n",
       "      <th></th>\n",
       "      <th>Location</th>\n",
       "      <th>ParentLocation</th>\n",
       "      <th>PM25_value</th>\n",
       "      <th>Average_PM25</th>\n",
       "    </tr>\n",
       "  </thead>\n",
       "  <tbody>\n",
       "    <tr>\n",
       "      <th>0</th>\n",
       "      <td>Kenya</td>\n",
       "      <td>Africa</td>\n",
       "      <td>10.01</td>\n",
       "      <td>29.820748</td>\n",
       "    </tr>\n",
       "    <tr>\n",
       "      <th>1</th>\n",
       "      <td>Trinidad and Tobago</td>\n",
       "      <td>Americas</td>\n",
       "      <td>10.02</td>\n",
       "      <td>14.645728</td>\n",
       "    </tr>\n",
       "    <tr>\n",
       "      <th>2</th>\n",
       "      <td>United Kingdom of Great Britain and Northern I...</td>\n",
       "      <td>Europe</td>\n",
       "      <td>10.06</td>\n",
       "      <td>19.244727</td>\n",
       "    </tr>\n",
       "    <tr>\n",
       "      <th>3</th>\n",
       "      <td>Grenada</td>\n",
       "      <td>Americas</td>\n",
       "      <td>10.08</td>\n",
       "      <td>14.645728</td>\n",
       "    </tr>\n",
       "    <tr>\n",
       "      <th>4</th>\n",
       "      <td>Brazil</td>\n",
       "      <td>Americas</td>\n",
       "      <td>10.09</td>\n",
       "      <td>14.645728</td>\n",
       "    </tr>\n",
       "  </tbody>\n",
       "</table>\n",
       "</div>"
      ],
      "text/plain": [
       "                                            Location ParentLocation  \\\n",
       "0                                              Kenya         Africa   \n",
       "1                                Trinidad and Tobago       Americas   \n",
       "2  United Kingdom of Great Britain and Northern I...         Europe   \n",
       "3                                            Grenada       Americas   \n",
       "4                                             Brazil       Americas   \n",
       "\n",
       "   PM25_value  Average_PM25  \n",
       "0       10.01     29.820748  \n",
       "1       10.02     14.645728  \n",
       "2       10.06     19.244727  \n",
       "3       10.08     14.645728  \n",
       "4       10.09     14.645728  "
      ]
     },
     "execution_count": 67,
     "metadata": {},
     "output_type": "execute_result"
    }
   ],
   "source": [
    "HW_sub = PM25[['Location', 'ParentLocation', 'PM25_value', 'Average_PM25']]\n",
    "HW_sub.head()"
   ]
  },
  {
   "cell_type": "code",
   "execution_count": 77,
   "id": "f1afca18-429a-4e79-aeb5-d79f9357ce3b",
   "metadata": {},
   "outputs": [],
   "source": [
    "# DO NOT RUN MORE THAN ONCE\n",
    "HW_sub.to_csv('Homework_7_1.5.csv', index=False)"
   ]
  },
  {
   "cell_type": "code",
   "execution_count": null,
   "id": "16be54f2-0f3f-49af-ab7d-7d8c2ab7caa6",
   "metadata": {},
   "outputs": [],
   "source": []
  }
 ],
 "metadata": {
  "kernelspec": {
   "display_name": "Python 3 (ipykernel)",
   "language": "python",
   "name": "python3"
  },
  "language_info": {
   "codemirror_mode": {
    "name": "ipython",
    "version": 3
   },
   "file_extension": ".py",
   "mimetype": "text/x-python",
   "name": "python",
   "nbconvert_exporter": "python",
   "pygments_lexer": "ipython3",
   "version": "3.12.4"
  }
 },
 "nbformat": 4,
 "nbformat_minor": 5
}
